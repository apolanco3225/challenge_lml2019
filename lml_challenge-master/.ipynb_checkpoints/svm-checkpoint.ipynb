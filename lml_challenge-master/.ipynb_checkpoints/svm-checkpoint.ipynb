{
 "cells": [
  {
   "cell_type": "code",
   "execution_count": null,
   "metadata": {
    "collapsed": true
   },
   "outputs": [],
   "source": [
    "# import necessary pacakges\n",
    "import pandas as pd\n",
    "from sklearn.ensemble import RandomForestClassifier\n",
    "import numpy as np\n",
    "from pickle import dump\n",
    "from sklearn.model_selection import cross_val_score\n",
    "from sklearn.model_selection import KFold\n",
    "from pickle import dump\n",
    "\n",
    "# labels\n",
    "columns = ['Numero de Puntos', 'Radio', 'Ancho', 'Desviacion estandar con respecto al centro', 'Relacion de aspecto', 'Longitud de las fronteras', 'Regularidad de las fronteras', 'Circularidad', 'Curtosis', 'Linearidad', 'Diferencia media angular', 'Desviacion promedio de la mediana', 'Curvatura media', 'Distancia mas cercana', 'Radio del vecino mas cercano', 'Ancho del vecino mas cercano', 'Desviacion estandar con respecto al centro del vecino mas cercano', 'Relacion de aspecto del vecino mas cercano', 'Longitud de las fronteras del vecino mas cercano', 'Regularidad de las fronteras del vecino mas cercano', 'Circularidad del vecino mas cercano', 'Curtosis del vecino mas cercano', 'Linearidad del vecino mas cercano', 'Diferencia media angular', 'Desviacion promedio de la mediana del vecino mas cercano', 'Curvatura media del vecino mas cercano', 'Distancia mas cercana del vecino mas cercano del vecino mas cercano']\n",
    "# load data\n",
    "data = pd.read_csv('laser_data/DataTrain.csv', names=columns)\n",
    "labels = pd.read_csv('laser_data/LabelsTrain.csv', names=['human'])\n",
    "from sklearn.model_selection import train_test_split\n",
    "trainX,testX, trainY, testY = train_test_split(data.values, labels.values, test_size=0.2, random_state=42)\n",
    "\n"
   ]
  }
 ],
 "metadata": {
  "kernelspec": {
   "display_name": "Python 3",
   "language": "python",
   "name": "python3"
  },
  "language_info": {
   "codemirror_mode": {
    "name": "ipython",
    "version": 3
   },
   "file_extension": ".py",
   "mimetype": "text/x-python",
   "name": "python",
   "nbconvert_exporter": "python",
   "pygments_lexer": "ipython3",
   "version": "3.6.8"
  }
 },
 "nbformat": 4,
 "nbformat_minor": 2
}
